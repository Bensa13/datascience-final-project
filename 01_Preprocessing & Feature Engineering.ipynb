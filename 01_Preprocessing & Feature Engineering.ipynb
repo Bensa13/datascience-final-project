{
 "cells": [
  {
   "cell_type": "markdown",
   "id": "6b74220e",
   "metadata": {},
   "source": [
    "<h1 align=middle>Pre-processing & Feature Engineering</h1>"
   ]
  },
  {
   "cell_type": "code",
   "execution_count": 85,
   "id": "ba7ea652",
   "metadata": {},
   "outputs": [],
   "source": [
    "import pandas as pd \n",
    "import numpy as np \n",
    "import matplotlib.pyplot as plt \n",
    "import seaborn as sns \n",
    "import pathlib \n",
    "from sklearn.preprocessing import OneHotEncoder,MinMaxScaler\n",
    "from sklearn.compose import ColumnTransformer\n",
    "from sklearn.metrics import confusion_matrix"
   ]
  },
  {
   "cell_type": "code",
   "execution_count": 6,
   "id": "1f078ef0",
   "metadata": {},
   "outputs": [],
   "source": [
    "# read in dataframe \n",
    "file_path = pathlib.Path().cwd()/\"output\"/\"pre-processed\"/\"eda-data.pkl\"\n",
    "df = pd.read_pickle(file_path)"
   ]
  },
  {
   "cell_type": "code",
   "execution_count": 7,
   "id": "8980c375",
   "metadata": {},
   "outputs": [
    {
     "data": {
      "text/plain": [
       "IDpol           float64\n",
       "ClaimNb           int64\n",
       "Exposure        float64\n",
       "Area             object\n",
       "VehPower          int64\n",
       "VehAge            int64\n",
       "DrivAge           int64\n",
       "BonusMalus        int64\n",
       "VehBrand         object\n",
       "VehGas         category\n",
       "Density           int64\n",
       "Region           object\n",
       "ClaimAmount     float64\n",
       "Y               float64\n",
       "dtype: object"
      ]
     },
     "execution_count": 7,
     "metadata": {},
     "output_type": "execute_result"
    }
   ],
   "source": [
    "# quick check if the data has still the categories \n",
    "df.dtypes"
   ]
  },
  {
   "cell_type": "markdown",
   "id": "834fed29",
   "metadata": {},
   "source": [
    "We have a few columns which are represented by alphanumerical values, e.g. letters. \n",
    "These need to be transformed into something more maschine readable such as numbers. \n",
    "\n",
    "Furthermore, we start scaling all the numbers in the dataframe. "
   ]
  },
  {
   "cell_type": "code",
   "execution_count": 32,
   "id": "e641ee17",
   "metadata": {},
   "outputs": [],
   "source": [
    "# Step 1 one-hot encoding \n",
    "string_columns = ['VehGas','Region','Area','VehBrand']\n",
    "number_columns = [col for col in df.columns.tolist() if col not in string_columns and col not in ['Y','ClaimAmount']]"
   ]
  },
  {
   "cell_type": "code",
   "execution_count": 35,
   "id": "69c60e63",
   "metadata": {},
   "outputs": [],
   "source": [
    "transformer = ColumnTransformer(\n",
    "[('',OneHotEncoder(),string_columns),\n",
    " ('',MinMaxScaler(),number_columns)\n",
    "    \n",
    "],remainder=\"passthrough\",\n",
    ")"
   ]
  },
  {
   "cell_type": "code",
   "execution_count": 42,
   "id": "105581d2",
   "metadata": {},
   "outputs": [],
   "source": [
    "df_preprocessed = transformer.fit_transform(df)\n",
    "df_preprocessed = pd.DataFrame(df_preprocessed.todense(),columns=transformer.get_feature_names_out())"
   ]
  },
  {
   "cell_type": "code",
   "execution_count": 43,
   "id": "0cc6f9e6",
   "metadata": {},
   "outputs": [
    {
     "data": {
      "text/html": [
       "<div>\n",
       "<style scoped>\n",
       "    .dataframe tbody tr th:only-of-type {\n",
       "        vertical-align: middle;\n",
       "    }\n",
       "\n",
       "    .dataframe tbody tr th {\n",
       "        vertical-align: top;\n",
       "    }\n",
       "\n",
       "    .dataframe thead th {\n",
       "        text-align: right;\n",
       "    }\n",
       "</style>\n",
       "<table border=\"1\" class=\"dataframe\">\n",
       "  <thead>\n",
       "    <tr style=\"text-align: right;\">\n",
       "      <th></th>\n",
       "      <th>one-hot-encoding__VehGas_Diesel</th>\n",
       "      <th>one-hot-encoding__VehGas_Regular</th>\n",
       "      <th>one-hot-encoding__Region_R11</th>\n",
       "      <th>one-hot-encoding__Region_R21</th>\n",
       "      <th>one-hot-encoding__Region_R22</th>\n",
       "      <th>one-hot-encoding__Region_R23</th>\n",
       "      <th>one-hot-encoding__Region_R24</th>\n",
       "      <th>one-hot-encoding__Region_R25</th>\n",
       "      <th>one-hot-encoding__Region_R26</th>\n",
       "      <th>one-hot-encoding__Region_R31</th>\n",
       "      <th>...</th>\n",
       "      <th>min-max-scaling__IDpol</th>\n",
       "      <th>min-max-scaling__ClaimNb</th>\n",
       "      <th>min-max-scaling__Exposure</th>\n",
       "      <th>min-max-scaling__VehPower</th>\n",
       "      <th>min-max-scaling__VehAge</th>\n",
       "      <th>min-max-scaling__DrivAge</th>\n",
       "      <th>min-max-scaling__BonusMalus</th>\n",
       "      <th>min-max-scaling__Density</th>\n",
       "      <th>remainder__ClaimAmount</th>\n",
       "      <th>remainder__Y</th>\n",
       "    </tr>\n",
       "  </thead>\n",
       "  <tbody>\n",
       "    <tr>\n",
       "      <th>0</th>\n",
       "      <td>0.0</td>\n",
       "      <td>1.0</td>\n",
       "      <td>0.0</td>\n",
       "      <td>0.0</td>\n",
       "      <td>0.0</td>\n",
       "      <td>0.0</td>\n",
       "      <td>0.0</td>\n",
       "      <td>0.0</td>\n",
       "      <td>0.0</td>\n",
       "      <td>0.0</td>\n",
       "      <td>...</td>\n",
       "      <td>0.000000e+00</td>\n",
       "      <td>0.0625</td>\n",
       "      <td>0.048458</td>\n",
       "      <td>0.090909</td>\n",
       "      <td>0.00</td>\n",
       "      <td>0.451220</td>\n",
       "      <td>0.000000</td>\n",
       "      <td>0.045039</td>\n",
       "      <td>NaN</td>\n",
       "      <td>0.0</td>\n",
       "    </tr>\n",
       "    <tr>\n",
       "      <th>1</th>\n",
       "      <td>0.0</td>\n",
       "      <td>1.0</td>\n",
       "      <td>0.0</td>\n",
       "      <td>0.0</td>\n",
       "      <td>0.0</td>\n",
       "      <td>0.0</td>\n",
       "      <td>0.0</td>\n",
       "      <td>0.0</td>\n",
       "      <td>0.0</td>\n",
       "      <td>0.0</td>\n",
       "      <td>...</td>\n",
       "      <td>3.271005e-07</td>\n",
       "      <td>0.0625</td>\n",
       "      <td>0.382245</td>\n",
       "      <td>0.090909</td>\n",
       "      <td>0.00</td>\n",
       "      <td>0.451220</td>\n",
       "      <td>0.000000</td>\n",
       "      <td>0.045039</td>\n",
       "      <td>NaN</td>\n",
       "      <td>0.0</td>\n",
       "    </tr>\n",
       "    <tr>\n",
       "      <th>2</th>\n",
       "      <td>1.0</td>\n",
       "      <td>0.0</td>\n",
       "      <td>0.0</td>\n",
       "      <td>0.0</td>\n",
       "      <td>1.0</td>\n",
       "      <td>0.0</td>\n",
       "      <td>0.0</td>\n",
       "      <td>0.0</td>\n",
       "      <td>0.0</td>\n",
       "      <td>0.0</td>\n",
       "      <td>...</td>\n",
       "      <td>6.542010e-07</td>\n",
       "      <td>0.0625</td>\n",
       "      <td>0.372281</td>\n",
       "      <td>0.181818</td>\n",
       "      <td>0.02</td>\n",
       "      <td>0.414634</td>\n",
       "      <td>0.000000</td>\n",
       "      <td>0.001963</td>\n",
       "      <td>NaN</td>\n",
       "      <td>0.0</td>\n",
       "    </tr>\n",
       "    <tr>\n",
       "      <th>3</th>\n",
       "      <td>1.0</td>\n",
       "      <td>0.0</td>\n",
       "      <td>0.0</td>\n",
       "      <td>0.0</td>\n",
       "      <td>0.0</td>\n",
       "      <td>0.0</td>\n",
       "      <td>0.0</td>\n",
       "      <td>0.0</td>\n",
       "      <td>0.0</td>\n",
       "      <td>0.0</td>\n",
       "      <td>...</td>\n",
       "      <td>1.471952e-06</td>\n",
       "      <td>0.0625</td>\n",
       "      <td>0.043476</td>\n",
       "      <td>0.272727</td>\n",
       "      <td>0.00</td>\n",
       "      <td>0.341463</td>\n",
       "      <td>0.000000</td>\n",
       "      <td>0.002778</td>\n",
       "      <td>NaN</td>\n",
       "      <td>0.0</td>\n",
       "    </tr>\n",
       "    <tr>\n",
       "      <th>4</th>\n",
       "      <td>1.0</td>\n",
       "      <td>0.0</td>\n",
       "      <td>0.0</td>\n",
       "      <td>0.0</td>\n",
       "      <td>0.0</td>\n",
       "      <td>0.0</td>\n",
       "      <td>0.0</td>\n",
       "      <td>0.0</td>\n",
       "      <td>0.0</td>\n",
       "      <td>0.0</td>\n",
       "      <td>...</td>\n",
       "      <td>1.635502e-06</td>\n",
       "      <td>0.0625</td>\n",
       "      <td>0.417118</td>\n",
       "      <td>0.272727</td>\n",
       "      <td>0.00</td>\n",
       "      <td>0.341463</td>\n",
       "      <td>0.000000</td>\n",
       "      <td>0.002778</td>\n",
       "      <td>NaN</td>\n",
       "      <td>0.0</td>\n",
       "    </tr>\n",
       "    <tr>\n",
       "      <th>...</th>\n",
       "      <td>...</td>\n",
       "      <td>...</td>\n",
       "      <td>...</td>\n",
       "      <td>...</td>\n",
       "      <td>...</td>\n",
       "      <td>...</td>\n",
       "      <td>...</td>\n",
       "      <td>...</td>\n",
       "      <td>...</td>\n",
       "      <td>...</td>\n",
       "      <td>...</td>\n",
       "      <td>...</td>\n",
       "      <td>...</td>\n",
       "      <td>...</td>\n",
       "      <td>...</td>\n",
       "      <td>...</td>\n",
       "      <td>...</td>\n",
       "      <td>...</td>\n",
       "      <td>...</td>\n",
       "      <td>...</td>\n",
       "      <td>...</td>\n",
       "    </tr>\n",
       "    <tr>\n",
       "      <th>679508</th>\n",
       "      <td>0.0</td>\n",
       "      <td>1.0</td>\n",
       "      <td>0.0</td>\n",
       "      <td>0.0</td>\n",
       "      <td>0.0</td>\n",
       "      <td>0.0</td>\n",
       "      <td>0.0</td>\n",
       "      <td>0.0</td>\n",
       "      <td>0.0</td>\n",
       "      <td>0.0</td>\n",
       "      <td>...</td>\n",
       "      <td>9.999993e-01</td>\n",
       "      <td>0.0000</td>\n",
       "      <td>0.000004</td>\n",
       "      <td>0.000000</td>\n",
       "      <td>0.00</td>\n",
       "      <td>0.439024</td>\n",
       "      <td>0.000000</td>\n",
       "      <td>0.122819</td>\n",
       "      <td>NaN</td>\n",
       "      <td>0.0</td>\n",
       "    </tr>\n",
       "    <tr>\n",
       "      <th>679509</th>\n",
       "      <td>0.0</td>\n",
       "      <td>1.0</td>\n",
       "      <td>1.0</td>\n",
       "      <td>0.0</td>\n",
       "      <td>0.0</td>\n",
       "      <td>0.0</td>\n",
       "      <td>0.0</td>\n",
       "      <td>0.0</td>\n",
       "      <td>0.0</td>\n",
       "      <td>0.0</td>\n",
       "      <td>...</td>\n",
       "      <td>9.999995e-01</td>\n",
       "      <td>0.0000</td>\n",
       "      <td>0.000004</td>\n",
       "      <td>0.000000</td>\n",
       "      <td>0.00</td>\n",
       "      <td>0.280488</td>\n",
       "      <td>0.250000</td>\n",
       "      <td>0.364791</td>\n",
       "      <td>NaN</td>\n",
       "      <td>0.0</td>\n",
       "    </tr>\n",
       "    <tr>\n",
       "      <th>679510</th>\n",
       "      <td>1.0</td>\n",
       "      <td>0.0</td>\n",
       "      <td>0.0</td>\n",
       "      <td>0.0</td>\n",
       "      <td>0.0</td>\n",
       "      <td>0.0</td>\n",
       "      <td>0.0</td>\n",
       "      <td>0.0</td>\n",
       "      <td>0.0</td>\n",
       "      <td>0.0</td>\n",
       "      <td>...</td>\n",
       "      <td>9.999997e-01</td>\n",
       "      <td>0.0000</td>\n",
       "      <td>0.000004</td>\n",
       "      <td>0.181818</td>\n",
       "      <td>0.02</td>\n",
       "      <td>0.329268</td>\n",
       "      <td>0.000000</td>\n",
       "      <td>0.048965</td>\n",
       "      <td>NaN</td>\n",
       "      <td>0.0</td>\n",
       "    </tr>\n",
       "    <tr>\n",
       "      <th>679511</th>\n",
       "      <td>0.0</td>\n",
       "      <td>1.0</td>\n",
       "      <td>0.0</td>\n",
       "      <td>0.0</td>\n",
       "      <td>0.0</td>\n",
       "      <td>0.0</td>\n",
       "      <td>0.0</td>\n",
       "      <td>0.0</td>\n",
       "      <td>1.0</td>\n",
       "      <td>0.0</td>\n",
       "      <td>...</td>\n",
       "      <td>9.999998e-01</td>\n",
       "      <td>0.0000</td>\n",
       "      <td>0.000004</td>\n",
       "      <td>0.000000</td>\n",
       "      <td>0.00</td>\n",
       "      <td>0.512195</td>\n",
       "      <td>0.000000</td>\n",
       "      <td>0.003482</td>\n",
       "      <td>NaN</td>\n",
       "      <td>0.0</td>\n",
       "    </tr>\n",
       "    <tr>\n",
       "      <th>679512</th>\n",
       "      <td>1.0</td>\n",
       "      <td>0.0</td>\n",
       "      <td>0.0</td>\n",
       "      <td>0.0</td>\n",
       "      <td>0.0</td>\n",
       "      <td>0.0</td>\n",
       "      <td>0.0</td>\n",
       "      <td>0.0</td>\n",
       "      <td>0.0</td>\n",
       "      <td>0.0</td>\n",
       "      <td>...</td>\n",
       "      <td>1.000000e+00</td>\n",
       "      <td>0.0000</td>\n",
       "      <td>0.000004</td>\n",
       "      <td>0.272727</td>\n",
       "      <td>0.06</td>\n",
       "      <td>0.134146</td>\n",
       "      <td>0.022222</td>\n",
       "      <td>0.002370</td>\n",
       "      <td>NaN</td>\n",
       "      <td>0.0</td>\n",
       "    </tr>\n",
       "  </tbody>\n",
       "</table>\n",
       "<p>679513 rows × 51 columns</p>\n",
       "</div>"
      ],
      "text/plain": [
       "        one-hot-encoding__VehGas_Diesel  one-hot-encoding__VehGas_Regular  \\\n",
       "0                                   0.0                               1.0   \n",
       "1                                   0.0                               1.0   \n",
       "2                                   1.0                               0.0   \n",
       "3                                   1.0                               0.0   \n",
       "4                                   1.0                               0.0   \n",
       "...                                 ...                               ...   \n",
       "679508                              0.0                               1.0   \n",
       "679509                              0.0                               1.0   \n",
       "679510                              1.0                               0.0   \n",
       "679511                              0.0                               1.0   \n",
       "679512                              1.0                               0.0   \n",
       "\n",
       "        one-hot-encoding__Region_R11  one-hot-encoding__Region_R21  \\\n",
       "0                                0.0                           0.0   \n",
       "1                                0.0                           0.0   \n",
       "2                                0.0                           0.0   \n",
       "3                                0.0                           0.0   \n",
       "4                                0.0                           0.0   \n",
       "...                              ...                           ...   \n",
       "679508                           0.0                           0.0   \n",
       "679509                           1.0                           0.0   \n",
       "679510                           0.0                           0.0   \n",
       "679511                           0.0                           0.0   \n",
       "679512                           0.0                           0.0   \n",
       "\n",
       "        one-hot-encoding__Region_R22  one-hot-encoding__Region_R23  \\\n",
       "0                                0.0                           0.0   \n",
       "1                                0.0                           0.0   \n",
       "2                                1.0                           0.0   \n",
       "3                                0.0                           0.0   \n",
       "4                                0.0                           0.0   \n",
       "...                              ...                           ...   \n",
       "679508                           0.0                           0.0   \n",
       "679509                           0.0                           0.0   \n",
       "679510                           0.0                           0.0   \n",
       "679511                           0.0                           0.0   \n",
       "679512                           0.0                           0.0   \n",
       "\n",
       "        one-hot-encoding__Region_R24  one-hot-encoding__Region_R25  \\\n",
       "0                                0.0                           0.0   \n",
       "1                                0.0                           0.0   \n",
       "2                                0.0                           0.0   \n",
       "3                                0.0                           0.0   \n",
       "4                                0.0                           0.0   \n",
       "...                              ...                           ...   \n",
       "679508                           0.0                           0.0   \n",
       "679509                           0.0                           0.0   \n",
       "679510                           0.0                           0.0   \n",
       "679511                           0.0                           0.0   \n",
       "679512                           0.0                           0.0   \n",
       "\n",
       "        one-hot-encoding__Region_R26  one-hot-encoding__Region_R31  ...  \\\n",
       "0                                0.0                           0.0  ...   \n",
       "1                                0.0                           0.0  ...   \n",
       "2                                0.0                           0.0  ...   \n",
       "3                                0.0                           0.0  ...   \n",
       "4                                0.0                           0.0  ...   \n",
       "...                              ...                           ...  ...   \n",
       "679508                           0.0                           0.0  ...   \n",
       "679509                           0.0                           0.0  ...   \n",
       "679510                           0.0                           0.0  ...   \n",
       "679511                           1.0                           0.0  ...   \n",
       "679512                           0.0                           0.0  ...   \n",
       "\n",
       "        min-max-scaling__IDpol  min-max-scaling__ClaimNb  \\\n",
       "0                 0.000000e+00                    0.0625   \n",
       "1                 3.271005e-07                    0.0625   \n",
       "2                 6.542010e-07                    0.0625   \n",
       "3                 1.471952e-06                    0.0625   \n",
       "4                 1.635502e-06                    0.0625   \n",
       "...                        ...                       ...   \n",
       "679508            9.999993e-01                    0.0000   \n",
       "679509            9.999995e-01                    0.0000   \n",
       "679510            9.999997e-01                    0.0000   \n",
       "679511            9.999998e-01                    0.0000   \n",
       "679512            1.000000e+00                    0.0000   \n",
       "\n",
       "        min-max-scaling__Exposure  min-max-scaling__VehPower  \\\n",
       "0                        0.048458                   0.090909   \n",
       "1                        0.382245                   0.090909   \n",
       "2                        0.372281                   0.181818   \n",
       "3                        0.043476                   0.272727   \n",
       "4                        0.417118                   0.272727   \n",
       "...                           ...                        ...   \n",
       "679508                   0.000004                   0.000000   \n",
       "679509                   0.000004                   0.000000   \n",
       "679510                   0.000004                   0.181818   \n",
       "679511                   0.000004                   0.000000   \n",
       "679512                   0.000004                   0.272727   \n",
       "\n",
       "        min-max-scaling__VehAge  min-max-scaling__DrivAge  \\\n",
       "0                          0.00                  0.451220   \n",
       "1                          0.00                  0.451220   \n",
       "2                          0.02                  0.414634   \n",
       "3                          0.00                  0.341463   \n",
       "4                          0.00                  0.341463   \n",
       "...                         ...                       ...   \n",
       "679508                     0.00                  0.439024   \n",
       "679509                     0.00                  0.280488   \n",
       "679510                     0.02                  0.329268   \n",
       "679511                     0.00                  0.512195   \n",
       "679512                     0.06                  0.134146   \n",
       "\n",
       "        min-max-scaling__BonusMalus  min-max-scaling__Density  \\\n",
       "0                          0.000000                  0.045039   \n",
       "1                          0.000000                  0.045039   \n",
       "2                          0.000000                  0.001963   \n",
       "3                          0.000000                  0.002778   \n",
       "4                          0.000000                  0.002778   \n",
       "...                             ...                       ...   \n",
       "679508                     0.000000                  0.122819   \n",
       "679509                     0.250000                  0.364791   \n",
       "679510                     0.000000                  0.048965   \n",
       "679511                     0.000000                  0.003482   \n",
       "679512                     0.022222                  0.002370   \n",
       "\n",
       "        remainder__ClaimAmount  remainder__Y  \n",
       "0                          NaN           0.0  \n",
       "1                          NaN           0.0  \n",
       "2                          NaN           0.0  \n",
       "3                          NaN           0.0  \n",
       "4                          NaN           0.0  \n",
       "...                        ...           ...  \n",
       "679508                     NaN           0.0  \n",
       "679509                     NaN           0.0  \n",
       "679510                     NaN           0.0  \n",
       "679511                     NaN           0.0  \n",
       "679512                     NaN           0.0  \n",
       "\n",
       "[679513 rows x 51 columns]"
      ]
     },
     "execution_count": 43,
     "metadata": {},
     "output_type": "execute_result"
    }
   ],
   "source": [
    "df_preprocessed"
   ]
  },
  {
   "cell_type": "code",
   "execution_count": 50,
   "id": "0f1dbfdc",
   "metadata": {},
   "outputs": [],
   "source": [
    "from sklearn.ensemble import RandomForestClassifier\n",
    "from sklearn.model_selection import GridSearchCV\n",
    "from sklearn.model_selection import train_test_split\n",
    "from sklearn.metrics import confusion_matrix \n"
   ]
  },
  {
   "cell_type": "code",
   "execution_count": 45,
   "id": "8bb3e181",
   "metadata": {},
   "outputs": [],
   "source": [
    "clf = RandomForestClassifier(n_jobs=-1)\n"
   ]
  },
  {
   "cell_type": "code",
   "execution_count": 76,
   "id": "2525c9b3",
   "metadata": {},
   "outputs": [],
   "source": [
    "param_grid = {\n",
    "    'n_estimators': [100, 200, 300],\n",
    "    'max_depth': [None, 5, 10],\n",
    "    'min_samples_split': [2, 5, 10],\n",
    "    'min_samples_leaf': [1, 2, 4],\n",
    "    'max_features': ['sqrt', 'log2']\n",
    "}\n",
    "g_search = GridSearchCV(clf,param_grid,cv=5)\n",
    "# too much data for my little overpriced mac book, so sampling it down\n",
    "\n",
    "df_preprocessed_sampled = df_preprocessed.sample(20000)\n",
    "X = df_preprocessed_sampled[[col for col in df_preprocessed_sampled.columns if col not in ['remainder__ClaimAmount','remainder__Y']]].values\n",
    "Y = df_preprocessed_sampled.remainder__Y.values\n",
    "\n",
    "\n",
    "\n"
   ]
  },
  {
   "cell_type": "code",
   "execution_count": 80,
   "id": "d709b569",
   "metadata": {},
   "outputs": [],
   "source": [
    "X_train, X_test, y_train, y_test = train_test_split(X,Y,test_size=0.2,random_state=42)"
   ]
  },
  {
   "cell_type": "code",
   "execution_count": 81,
   "id": "fe466400",
   "metadata": {},
   "outputs": [
    {
     "data": {
      "text/plain": [
       "(16000, 49)"
      ]
     },
     "execution_count": 81,
     "metadata": {},
     "output_type": "execute_result"
    }
   ],
   "source": [
    "X_train.shape"
   ]
  },
  {
   "cell_type": "code",
   "execution_count": 82,
   "id": "913e0ccc",
   "metadata": {},
   "outputs": [
    {
     "data": {
      "text/html": [
       "<style>#sk-container-id-1 {color: black;background-color: white;}#sk-container-id-1 pre{padding: 0;}#sk-container-id-1 div.sk-toggleable {background-color: white;}#sk-container-id-1 label.sk-toggleable__label {cursor: pointer;display: block;width: 100%;margin-bottom: 0;padding: 0.3em;box-sizing: border-box;text-align: center;}#sk-container-id-1 label.sk-toggleable__label-arrow:before {content: \"▸\";float: left;margin-right: 0.25em;color: #696969;}#sk-container-id-1 label.sk-toggleable__label-arrow:hover:before {color: black;}#sk-container-id-1 div.sk-estimator:hover label.sk-toggleable__label-arrow:before {color: black;}#sk-container-id-1 div.sk-toggleable__content {max-height: 0;max-width: 0;overflow: hidden;text-align: left;background-color: #f0f8ff;}#sk-container-id-1 div.sk-toggleable__content pre {margin: 0.2em;color: black;border-radius: 0.25em;background-color: #f0f8ff;}#sk-container-id-1 input.sk-toggleable__control:checked~div.sk-toggleable__content {max-height: 200px;max-width: 100%;overflow: auto;}#sk-container-id-1 input.sk-toggleable__control:checked~label.sk-toggleable__label-arrow:before {content: \"▾\";}#sk-container-id-1 div.sk-estimator input.sk-toggleable__control:checked~label.sk-toggleable__label {background-color: #d4ebff;}#sk-container-id-1 div.sk-label input.sk-toggleable__control:checked~label.sk-toggleable__label {background-color: #d4ebff;}#sk-container-id-1 input.sk-hidden--visually {border: 0;clip: rect(1px 1px 1px 1px);clip: rect(1px, 1px, 1px, 1px);height: 1px;margin: -1px;overflow: hidden;padding: 0;position: absolute;width: 1px;}#sk-container-id-1 div.sk-estimator {font-family: monospace;background-color: #f0f8ff;border: 1px dotted black;border-radius: 0.25em;box-sizing: border-box;margin-bottom: 0.5em;}#sk-container-id-1 div.sk-estimator:hover {background-color: #d4ebff;}#sk-container-id-1 div.sk-parallel-item::after {content: \"\";width: 100%;border-bottom: 1px solid gray;flex-grow: 1;}#sk-container-id-1 div.sk-label:hover label.sk-toggleable__label {background-color: #d4ebff;}#sk-container-id-1 div.sk-serial::before {content: \"\";position: absolute;border-left: 1px solid gray;box-sizing: border-box;top: 0;bottom: 0;left: 50%;z-index: 0;}#sk-container-id-1 div.sk-serial {display: flex;flex-direction: column;align-items: center;background-color: white;padding-right: 0.2em;padding-left: 0.2em;position: relative;}#sk-container-id-1 div.sk-item {position: relative;z-index: 1;}#sk-container-id-1 div.sk-parallel {display: flex;align-items: stretch;justify-content: center;background-color: white;position: relative;}#sk-container-id-1 div.sk-item::before, #sk-container-id-1 div.sk-parallel-item::before {content: \"\";position: absolute;border-left: 1px solid gray;box-sizing: border-box;top: 0;bottom: 0;left: 50%;z-index: -1;}#sk-container-id-1 div.sk-parallel-item {display: flex;flex-direction: column;z-index: 1;position: relative;background-color: white;}#sk-container-id-1 div.sk-parallel-item:first-child::after {align-self: flex-end;width: 50%;}#sk-container-id-1 div.sk-parallel-item:last-child::after {align-self: flex-start;width: 50%;}#sk-container-id-1 div.sk-parallel-item:only-child::after {width: 0;}#sk-container-id-1 div.sk-dashed-wrapped {border: 1px dashed gray;margin: 0 0.4em 0.5em 0.4em;box-sizing: border-box;padding-bottom: 0.4em;background-color: white;}#sk-container-id-1 div.sk-label label {font-family: monospace;font-weight: bold;display: inline-block;line-height: 1.2em;}#sk-container-id-1 div.sk-label-container {text-align: center;}#sk-container-id-1 div.sk-container {/* jupyter's `normalize.less` sets `[hidden] { display: none; }` but bootstrap.min.css set `[hidden] { display: none !important; }` so we also need the `!important` here to be able to override the default hidden behavior on the sphinx rendered scikit-learn.org. See: https://github.com/scikit-learn/scikit-learn/issues/21755 */display: inline-block !important;position: relative;}#sk-container-id-1 div.sk-text-repr-fallback {display: none;}</style><div id=\"sk-container-id-1\" class=\"sk-top-container\"><div class=\"sk-text-repr-fallback\"><pre>GridSearchCV(cv=5, estimator=RandomForestClassifier(n_jobs=-1),\n",
       "             param_grid={&#x27;max_depth&#x27;: [None, 5, 10],\n",
       "                         &#x27;max_features&#x27;: [&#x27;sqrt&#x27;, &#x27;log2&#x27;],\n",
       "                         &#x27;min_samples_leaf&#x27;: [1, 2, 4],\n",
       "                         &#x27;min_samples_split&#x27;: [2, 5, 10],\n",
       "                         &#x27;n_estimators&#x27;: [100, 200, 300]})</pre><b>In a Jupyter environment, please rerun this cell to show the HTML representation or trust the notebook. <br />On GitHub, the HTML representation is unable to render, please try loading this page with nbviewer.org.</b></div><div class=\"sk-container\" hidden><div class=\"sk-item sk-dashed-wrapped\"><div class=\"sk-label-container\"><div class=\"sk-label sk-toggleable\"><input class=\"sk-toggleable__control sk-hidden--visually\" id=\"sk-estimator-id-1\" type=\"checkbox\" ><label for=\"sk-estimator-id-1\" class=\"sk-toggleable__label sk-toggleable__label-arrow\">GridSearchCV</label><div class=\"sk-toggleable__content\"><pre>GridSearchCV(cv=5, estimator=RandomForestClassifier(n_jobs=-1),\n",
       "             param_grid={&#x27;max_depth&#x27;: [None, 5, 10],\n",
       "                         &#x27;max_features&#x27;: [&#x27;sqrt&#x27;, &#x27;log2&#x27;],\n",
       "                         &#x27;min_samples_leaf&#x27;: [1, 2, 4],\n",
       "                         &#x27;min_samples_split&#x27;: [2, 5, 10],\n",
       "                         &#x27;n_estimators&#x27;: [100, 200, 300]})</pre></div></div></div><div class=\"sk-parallel\"><div class=\"sk-parallel-item\"><div class=\"sk-item\"><div class=\"sk-label-container\"><div class=\"sk-label sk-toggleable\"><input class=\"sk-toggleable__control sk-hidden--visually\" id=\"sk-estimator-id-2\" type=\"checkbox\" ><label for=\"sk-estimator-id-2\" class=\"sk-toggleable__label sk-toggleable__label-arrow\">estimator: RandomForestClassifier</label><div class=\"sk-toggleable__content\"><pre>RandomForestClassifier(n_jobs=-1)</pre></div></div></div><div class=\"sk-serial\"><div class=\"sk-item\"><div class=\"sk-estimator sk-toggleable\"><input class=\"sk-toggleable__control sk-hidden--visually\" id=\"sk-estimator-id-3\" type=\"checkbox\" ><label for=\"sk-estimator-id-3\" class=\"sk-toggleable__label sk-toggleable__label-arrow\">RandomForestClassifier</label><div class=\"sk-toggleable__content\"><pre>RandomForestClassifier(n_jobs=-1)</pre></div></div></div></div></div></div></div></div></div></div>"
      ],
      "text/plain": [
       "GridSearchCV(cv=5, estimator=RandomForestClassifier(n_jobs=-1),\n",
       "             param_grid={'max_depth': [None, 5, 10],\n",
       "                         'max_features': ['sqrt', 'log2'],\n",
       "                         'min_samples_leaf': [1, 2, 4],\n",
       "                         'min_samples_split': [2, 5, 10],\n",
       "                         'n_estimators': [100, 200, 300]})"
      ]
     },
     "execution_count": 82,
     "metadata": {},
     "output_type": "execute_result"
    }
   ],
   "source": [
    "g_search.fit(X_train,y_train)"
   ]
  },
  {
   "cell_type": "code",
   "execution_count": 83,
   "id": "a7a23e53",
   "metadata": {},
   "outputs": [],
   "source": [
    "best_clf = g_search.best_estimator_"
   ]
  },
  {
   "cell_type": "code",
   "execution_count": 87,
   "id": "0150a2b3",
   "metadata": {},
   "outputs": [
    {
     "data": {
      "text/plain": [
       "array([[3854,    0],\n",
       "       [   4,  142]])"
      ]
     },
     "execution_count": 87,
     "metadata": {},
     "output_type": "execute_result"
    }
   ],
   "source": [
    "cn"
   ]
  },
  {
   "cell_type": "code",
   "execution_count": 89,
   "id": "f40bf86b",
   "metadata": {},
   "outputs": [
    {
     "data": {
      "image/png": "[encoded data removed]",
      "text/plain": [
       "<Figure size 640x480 with 2 Axes>"
      ]
     },
     "metadata": {},
     "output_type": "display_data"
    }
   ],
   "source": [
    "y_hat = best_clf.predict(X_test)\n",
    "cn = confusion_matrix(y_test,y_hat)\n",
    "\n",
    "sns.heatmap(cn,annot=True,fmt=\".1f\")\n",
    "plt.show()\n"
   ]
  },
  {
   "cell_type": "code",
   "execution_count": 90,
   "id": "ee08438a",
   "metadata": {},
   "outputs": [],
   "source": [
    "# lets do it on the whole dataset \n",
    "X = df_preprocessed[[col for col in df_preprocessed.columns if col not in ['remainder__ClaimAmount','remainder__Y']]].values\n",
    "Y = df_preprocessed.remainder__Y.values"
   ]
  },
  {
   "cell_type": "code",
   "execution_count": 94,
   "id": "c90c58a9",
   "metadata": {},
   "outputs": [
    {
     "data": {
      "image/png": "[encoded data removed]",
      "text/plain": [
       "<Figure size 640x480 with 2 Axes>"
      ]
     },
     "metadata": {},
     "output_type": "display_data"
    }
   ],
   "source": [
    "y_hat = best_clf.predict(X)\n",
    "cn = confusion_matrix(Y,y_hat,normalize=\"true\")\n",
    "\n",
    "sns.heatmap(cn,annot=True,fmt=\".4f\")\n",
    "plt.show()\n"
   ]
  },
  {
   "cell_type": "code",
   "execution_count": 95,
   "id": "8242a664",
   "metadata": {},
   "outputs": [],
   "source": [
    "from sklearn.metrics import f1_score"
   ]
  },
  {
   "cell_type": "code",
   "execution_count": 99,
   "id": "447eba3a",
   "metadata": {},
   "outputs": [
    {
     "data": {
      "text/plain": [
       "0.9955407688858389"
      ]
     },
     "execution_count": 99,
     "metadata": {},
     "output_type": "execute_result"
    }
   ],
   "source": [
    "f1_score(Y,y_hat,average=\"macro\")"
   ]
  },
  {
   "cell_type": "code",
   "execution_count": null,
   "id": "40e5d221",
   "metadata": {},
   "outputs": [],
   "source": [
    "best_clf."
   ]
  },
  {
   "cell_type": "code",
   "execution_count": 107,
   "id": "c604cb21",
   "metadata": {},
   "outputs": [
    {
     "data": {
      "text/plain": [
       "Index(['one-hot-encoding__VehGas_Diesel', 'one-hot-encoding__VehGas_Regular',\n",
       "       'one-hot-encoding__Region_R11', 'one-hot-encoding__Region_R21',\n",
       "       'one-hot-encoding__Region_R22', 'one-hot-encoding__Region_R23',\n",
       "       'one-hot-encoding__Region_R24', 'one-hot-encoding__Region_R25',\n",
       "       'one-hot-encoding__Region_R26', 'one-hot-encoding__Region_R31',\n",
       "       'one-hot-encoding__Region_R41', 'one-hot-encoding__Region_R42',\n",
       "       'one-hot-encoding__Region_R43', 'one-hot-encoding__Region_R52',\n",
       "       'one-hot-encoding__Region_R53', 'one-hot-encoding__Region_R54',\n",
       "       'one-hot-encoding__Region_R72', 'one-hot-encoding__Region_R73',\n",
       "       'one-hot-encoding__Region_R74', 'one-hot-encoding__Region_R82',\n",
       "       'one-hot-encoding__Region_R83', 'one-hot-encoding__Region_R91',\n",
       "       'one-hot-encoding__Region_R93', 'one-hot-encoding__Region_R94',\n",
       "       'one-hot-encoding__Area_A', 'one-hot-encoding__Area_B',\n",
       "       'one-hot-encoding__Area_C', 'one-hot-encoding__Area_D',\n",
       "       'one-hot-encoding__Area_E', 'one-hot-encoding__Area_F',\n",
       "       'one-hot-encoding__VehBrand_B1', 'one-hot-encoding__VehBrand_B10',\n",
       "       'one-hot-encoding__VehBrand_B11', 'one-hot-encoding__VehBrand_B12',\n",
       "       'one-hot-encoding__VehBrand_B13', 'one-hot-encoding__VehBrand_B14',\n",
       "       'one-hot-encoding__VehBrand_B2', 'one-hot-encoding__VehBrand_B3',\n",
       "       'one-hot-encoding__VehBrand_B4', 'one-hot-encoding__VehBrand_B5',\n",
       "       'one-hot-encoding__VehBrand_B6', 'min-max-scaling__IDpol',\n",
       "       'min-max-scaling__ClaimNb', 'min-max-scaling__Exposure',\n",
       "       'min-max-scaling__VehPower', 'min-max-scaling__VehAge',\n",
       "       'min-max-scaling__DrivAge', 'min-max-scaling__BonusMalus',\n",
       "       'min-max-scaling__Density', 'remainder__ClaimAmount', 'remainder__Y'],\n",
       "      dtype='object')"
      ]
     },
     "execution_count": 107,
     "metadata": {},
     "output_type": "execute_result"
    }
   ],
   "source": [
    "df_preprocessed.columns"
   ]
  },
  {
   "cell_type": "code",
   "execution_count": 112,
   "id": "a9b5b08c",
   "metadata": {},
   "outputs": [
    {
     "data": {
      "text/plain": [
       "<Axes: >"
      ]
     },
     "execution_count": 112,
     "metadata": {},
     "output_type": "execute_result"
    },
    {
     "data": {
      "image/png": "[encoded data removed]",
      "text/plain": [
       "<Figure size 640x480 with 1 Axes>"
      ]
     },
     "metadata": {},
     "output_type": "display_data"
    }
   ],
   "source": [
    "pd.DataFrame(best_clf\n",
    "             .feature_importances_\n",
    "             ,index=[col for col in df_preprocessed.columns if col not in ['remainder__ClaimAmount','remainder__Y']]).plot(kind=\"bar\")"
   ]
  },
  {
   "cell_type": "markdown",
   "id": "2819d4a6",
   "metadata": {},
   "source": [
    "### well, guess I am done "
   ]
  },
  {
   "cell_type": "code",
   "execution_count": null,
   "id": "110fdd6c",
   "metadata": {},
   "outputs": [],
   "source": []
  }
 ],
 "metadata": {
  "kernelspec": {
   "display_name": "Python 3 (ipykernel)",
   "language": "python",
   "name": "python3"
  },
  "language_info": {
   "codemirror_mode": {
    "name": "ipython",
    "version": 3
   },
   "file_extension": ".py",
   "mimetype": "text/x-python",
   "name": "python",
   "nbconvert_exporter": "python",
   "pygments_lexer": "ipython3",
   "version": "3.11.3"
  }
 },
 "nbformat": 4,
 "nbformat_minor": 5
}
